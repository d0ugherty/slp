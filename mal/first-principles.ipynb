{
 "cells": [
  {
   "cell_type": "markdown",
   "metadata": {},
   "source": [
    "# The Mathematical Analysis of Logic"
   ]
  },
  {
   "cell_type": "markdown",
   "metadata": {},
   "source": [
    "### First Principles\n",
    "\n",
    "<p>\"Let us employ the symbol 1, or unity, to represent the Universe, and let us understand it as comprehending every conceivable class of objects whether actually existing or not., it being premised that the same individual may be found in more than one class , inasmuch as it may possess more than one quality in common with other individuals. Let us employ the letters X, Y, Z, to represent the invdividual members of classes, X applying to every member of one class, as members of that particular class, and Y to every member of another class as members of such class, and so on, according to the received language of treatises on Logic.\"</p>\n"
   ]
  },
  {
   "cell_type": "code",
   "execution_count": 1,
   "metadata": {},
   "outputs": [],
   "source": [
    "UNIVERSE = {'a', 'b', 'c', 'd', 'e', 'f'}\n",
    "\n",
    "X = {'a', 'b' }\n",
    "Y = {'c', 'd' }\n",
    "Z = {'e', 'f' }\n"
   ]
  },
  {
   "cell_type": "markdown",
   "metadata": {},
   "source": [
    "<p>Further let us conceive a class of symbols, x, y, z, possessed to the following character.\n",
    "\n",
    "The symbol x operating upon any subject comprehending individuals or classes, shall be supposed to select from that subject all the Xs which it contains. In like manner the symbol y, operating on any subject, shall be supposed to select from it all individuals of the class Y which are comprised in it, and so on. </p>"
   ]
  },
  {
   "cell_type": "code",
   "execution_count": 2,
   "metadata": {},
   "outputs": [],
   "source": [
    "def select_members(UNIVERSE, operation=None):\n",
    "    if operation == None:\n",
    "        return UNIVERSE\n",
    "    return operation(UNIVERSE)\n",
    "\n",
    "# Intersection of the UNIVERSE and X\n",
    "def operation_x(UNIVERSE):\n",
    "    return {class_member for class_member in UNIVERSE if class_member in X }\n",
    "\n",
    "# Intersection of the UNIVERSE and Y\n",
    "def operation_y(UNIVERSE):\n",
    "    return {class_member for class_member in UNIVERSE if class_member in Y }\n",
    "\n",
    "# Intersection of the UNIVERSE and Z\n",
    "def operation_z(UNIVERSE):\n",
    "    return {class_member for class_member in UNIVERSE if class_member in Z } \n",
    "\n",
    "# Symobls x, y, z as operators\n",
    "x = operation_x\n",
    "y = operation_y\n",
    "z = operation_z"
   ]
  },
  {
   "cell_type": "code",
   "execution_count": 3,
   "metadata": {},
   "outputs": [
    {
     "name": "stdout",
     "output_type": "stream",
     "text": [
      "UNIVERSE: {'c', 'b', 'f', 'a', 'd', 'e'}\n",
      "Class X = {'b', 'a'}\n",
      "Class Y = {'c', 'd'}\n",
      "Class Z = {'f', 'e'}\n"
     ]
    }
   ],
   "source": [
    "# When no subject is expressed, we shall suppose 1 (the UNIVERSE) to be the subject understood, so that we shall have x == x\n",
    "print(f'UNIVERSE: {select_members(UNIVERSE)}')\n",
    "\n",
    "set_x = select_members(UNIVERSE, x)\n",
    "print(f'Class X = {set_x}')\n",
    "\n",
    "set_y = select_members(UNIVERSE, y)\n",
    "print(f'Class Y = {set_y}')\n",
    "\n",
    "set_z = select_members(UNIVERSE, z)\n",
    "print(f'Class Z = {set_z}')\n"
   ]
  },
  {
   "cell_type": "markdown",
   "metadata": {},
   "source": [
    "<p> 1. The result of an act of election is independent of the grouping or classification of the subject (Distributive) </p>\n",
    "\n",
    "x(u + v) = xu + xv"
   ]
  },
  {
   "cell_type": "code",
   "execution_count": 4,
   "metadata": {},
   "outputs": [
    {
     "name": "stdout",
     "output_type": "stream",
     "text": [
      "x(u + v) = {'g', 'h'}\n",
      "xu + xv = {'g', 'h'}\n"
     ]
    }
   ],
   "source": [
    "# The product of xy will represent the selection of class Y and the selection from the class Y such that\n",
    "# elements of the class X are contained in it.\n",
    "def set_product(*sets):\n",
    "    result = set.intersection(*sets)\n",
    "    return result\n",
    "\n",
    "def set_add(*sets):\n",
    "    result = set.union(*sets)\n",
    "    return result\n",
    "\n",
    "UNIVERSE = {'a', 'b', 'c', 'd' , 'e', 'f', 'g', 'h', 'q', 'z'}\n",
    "\n",
    "X = {'a', 'b', 'g', 'h' }\n",
    "Y = {'c', 'd', 'q', 'h' }\n",
    "Z = {'e', 'f', 'g', 'z' }\n",
    "\n",
    "set_x = select_members(UNIVERSE, x)\n",
    "set_y = select_members(UNIVERSE, y)\n",
    "set_z = select_members(UNIVERSE, z)\n",
    "\n",
    "u_v = set_add(set_y, set_z)\n",
    "x_uv = set_product(set_x, u_v)\n",
    "print(f'x(u + v) = {set_product(set_add(set_y, set_z), set_x)}')\n",
    "\n",
    "print(f'xu + xv = {set_add(set_product(set_x, set_y), set_product(set_x, set_z))}')"
   ]
  },
  {
   "cell_type": "markdown",
   "metadata": {},
   "source": [
    "<p> 2. It is indifferent what order two successive acts of election are performed. (Commutative)\n",
    "\n",
    "xy == yx\n",
    "</p>"
   ]
  },
  {
   "cell_type": "code",
   "execution_count": 5,
   "metadata": {},
   "outputs": [
    {
     "name": "stdout",
     "output_type": "stream",
     "text": [
      "From team sports, select winter sports = {'ice hockey'}\n",
      "From winter sports, select team sports = {'ice hockey'}\n"
     ]
    }
   ],
   "source": [
    "UNIVERSE = {'ice hockey', 'football', 'lacrosse', 'skiing', 'snowboarding'}\n",
    "\n",
    "X = TEAM_SPORTS = {'ice hockey', 'football', 'lacrosse'}\n",
    "Y = WINTER_SPORTS = {'skiing', 'snowboarding', 'ice hockey'}\n",
    "\n",
    "set_x = select_members(UNIVERSE, x)\n",
    "set_y = select_members(UNIVERSE, y)\n",
    "\n",
    "print(f'From team sports, select winter sports = {set_product(set_x, set_y)}')\n",
    "print(f'From winter sports, select team sports = {set_product(set_y, set_x)}')"
   ]
  },
  {
   "cell_type": "markdown",
   "metadata": {},
   "source": [
    "<p> 3. The result of a given act of election performed twice, or any number of times in succession, is the result of the same act performed once. \n",
    "\n",
    "Boole's \"index law\". This will be used for logical reduction later on.\n",
    "\n",
    "xx == x\n",
    "\n",
    "</p>"
   ]
  },
  {
   "cell_type": "code",
   "execution_count": 6,
   "metadata": {},
   "outputs": [
    {
     "name": "stdout",
     "output_type": "stream",
     "text": [
      "Product of x and y = {'h'}\n",
      "Product of x and y, again = set_product(x_y, x_y) = {'h'}\n"
     ]
    }
   ],
   "source": [
    "UNIVERSE = {'a', 'b', 'c', 'd' , 'e', 'f', 'g', 'h', 'q', 'z'}\n",
    "\n",
    "X = {'a', 'b', 'g', 'h' }\n",
    "Y = {'c', 'd', 'q', 'h' }\n",
    "Z = {'e', 'f', 'g', 'z' }\n",
    "\n",
    "set_x = select_members(UNIVERSE, x)\n",
    "set_y = select_members(UNIVERSE, y)\n",
    "set_z = select_members(UNIVERSE, z)\n",
    "\n",
    "x_y = set_product(set_x, set_y)\n",
    "print(f'Product of x and y = {x_y}')\n",
    "\n",
    "print(f'Product of x and y, again = set_product(x_y, x_y) = {set_product(x_y, x_y)}')"
   ]
  },
  {
   "cell_type": "markdown",
   "metadata": {},
   "source": [
    "<p> Index law and the expression of truth\n",
    "\n",
    "Consider the propositon y == z. This implies that classes Y and Z are equivalent, member for member.\n",
    "\n",
    "Multiply each side by a factor of x and we have \n",
    "\n",
    "xy == xz\n",
    "\n",
    "which expresses that elements which are common to sets X and Y are also common to the intersection of X and Z. This does not negate the truth value of the original propostion, it is just a more specific assertion about the given classes. The result is a subset regarding the equivalence the specifically involves X."
   ]
  },
  {
   "cell_type": "code",
   "execution_count": 7,
   "metadata": {},
   "outputs": [
    {
     "name": "stdout",
     "output_type": "stream",
     "text": [
      "y == z\n",
      "{'q', 'c', 'd', 'h'} == {'q', 'c', 'd', 'h'}\n",
      "Is y equal to z? \n",
      " True\n",
      "xy = {'c', 'd'}\n",
      "xz = {'c', 'd'}\n",
      "Is xy equal to xz? \n",
      " True\n"
     ]
    }
   ],
   "source": [
    "UNIVERSE = {'a', 'b', 'c', 'd' , 'e', 'f', 'g', 'h', 'q', 'z'}\n",
    "\n",
    "# Set Y == Z\n",
    "X = {'a', 'b', 'c', 'd' }\n",
    "Y = {'c', 'd', 'q', 'h' }\n",
    "Z = Y\n",
    "\n",
    "set_x = select_members(UNIVERSE, x)\n",
    "set_y = select_members(UNIVERSE, y)\n",
    "set_z = select_members(UNIVERSE, z)\n",
    "\n",
    "print('y == z')\n",
    "print(f'{set_y} == {set_z}')\n",
    "print(f'Is y equal to z? \\n {set_y == set_z}')\n",
    "\n",
    "xy = set_product(set_x, set_y)\n",
    "xz = set_product(set_x, set_z)\n",
    "\n",
    "print(f'xy = {xy}')\n",
    "print(f'xz = {xz}')\n",
    "\n",
    "print(f'Is xy equal to xz? \\n {xy == xz}')"
   ]
  }
 ],
 "metadata": {
  "kernelspec": {
   "display_name": "Python 3",
   "language": "python",
   "name": "python3"
  },
  "language_info": {
   "codemirror_mode": {
    "name": "ipython",
    "version": 3
   },
   "file_extension": ".py",
   "mimetype": "text/x-python",
   "name": "python",
   "nbconvert_exporter": "python",
   "pygments_lexer": "ipython3",
   "version": "3.11.7"
  }
 },
 "nbformat": 4,
 "nbformat_minor": 2
}
