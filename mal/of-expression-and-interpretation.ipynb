{
 "cells": [
  {
   "cell_type": "markdown",
   "metadata": {},
   "source": [
    "# The Mathematical Analysis of Logic\n"
   ]
  },
  {
   "cell_type": "markdown",
   "metadata": {},
   "source": [
    "### Of Expression and Interpretation"
   ]
  },
  {
   "cell_type": "markdown",
   "metadata": {},
   "source": [
    "#### Definitions\n",
    "\n",
    "<p>Proposition - a statement which either affirms or denies. ex - \"All men are mortal, No creature is independent.\"\n",
    "\n",
    "Subject - which that is spoken of. *Men* is the subject.\n",
    "\n",
    "Predicate - which that affirms or denies the subject. *Mortal* is the predicate.\n",
    "\n",
    "The subject and the predicate are connected by a *copula* such as \"is\", \"is not\", or other substantive verb.\n",
    "\n",
    "A proposition must either be affirmative or negative and must either be universal or particular.\n",
    "\n",
    "**Universal-Affirmative**: All Xs are Ys. </br>\n",
    "**Universal-Negative**: No Xs are Ys. </br>\n",
    "**Particular-Affirmative**: Some Xs are Ys </br>\n",
    "**Particular-Negative**: Some Xs are not Ys</br>\n",
    "</p>"
   ]
  },
  {
   "cell_type": "code",
   "execution_count": 3,
   "metadata": {},
   "outputs": [],
   "source": [
    "UNIVERSE = {'a', 'b', 'c', 'd' , 'e', 'f', 'g', 'h', 'q', 'z'}\n",
    "\n",
    "X = {'a', 'b', 'g', 'h' }\n",
    "Y = {'c', 'd', 'q', 'h' }\n",
    "Z = {'e', 'f', 'g', 'z' }\n",
    "\n",
    "def select_members(UNIVERSE, operation=None):\n",
    "    if operation == None:\n",
    "        return UNIVERSE\n",
    "    return operation(UNIVERSE)\n",
    "\n",
    "def operation_x(UNIVERSE):\n",
    "    return {class_member for class_member in UNIVERSE if class_member in X }\n",
    "\n",
    "def operation_y(UNIVERSE):\n",
    "    return {class_member for class_member in UNIVERSE if class_member in Y }\n",
    "\n",
    "def operation_z(UNIVERSE):\n",
    "    return {class_member for class_member in UNIVERSE if class_member in Z } \n",
    "\n",
    "x = operation_x\n",
    "y = operation_y\n",
    "z = operation_z\n",
    "\n",
    "def set_product(*sets):\n",
    "    result = set.intersection(*sets)\n",
    "    return result\n",
    "\n",
    "def set_add(*sets):\n",
    "    result = set.union(*sets)\n",
    "    return result\n"
   ]
  },
  {
   "cell_type": "markdown",
   "metadata": {},
   "source": [
    "<p> Expression of class Not-X \n",
    "    Let 1 repersent the Universe and X determined by symbol x.\n",
    "\n",
    "    The class not-X will be determined by the symbol 1-x\n",
    "</p>"
   ]
  },
  {
   "cell_type": "code",
   "execution_count": 8,
   "metadata": {},
   "outputs": [
    {
     "name": "stdout",
     "output_type": "stream",
     "text": [
      "not_in(set_x) = {'f', 'e', 'd', 'q', 'c', 'z'}\n",
      "All elements which are not X = (1 - x) = {'f', 'e', 'd', 'q', 'c', 'z'}\n",
      "All elements which are neither Xs nor Ys = (1 - x) (1 - y) = {'f', 'z', 'e'}\n"
     ]
    }
   ],
   "source": [
    "# As a function\n",
    "def not_in(set):\n",
    "    return {class_member for class_member in UNIVERSE if class_member not in set}\n",
    "\n",
    "def set_substract(*sets):\n",
    "    return set.difference(*sets)\n",
    "\n",
    "set_x = select_members(UNIVERSE, x)\n",
    "set_y = select_members(UNIVERSE, y)\n",
    "\n",
    "print(f'not_in(set_x) = {not_in(set_x)}')\n",
    "\n",
    "# Or using Python's  \"-\" operator\n",
    "print(f'All elements which are not X = (1 - x) = {UNIVERSE - set_x}')\n",
    "\n",
    "print(f'All elements which are neither Xs nor Ys = (1 - x) (1 - y) = {set_product(UNIVERSE - set_x, UNIVERSE - set_y)}')"
   ]
  },
  {
   "cell_type": "markdown",
   "metadata": {},
   "source": [
    "Express proposition \"All Xs are Ys\"\n",
    "\n",
    "If xy == x then that implies x is a subset of y.\n",
    "\n",
    "So we can infer All Xs are Ys from\n",
    "\n",
    " x(1 - y) == 0 \n",
    " \n",
    " because elements of x must be in set y."
   ]
  },
  {
   "cell_type": "code",
   "execution_count": 13,
   "metadata": {},
   "outputs": [
    {
     "name": "stdout",
     "output_type": "stream",
     "text": [
      "xy = {'b', 'a'}\n",
      "x = {'b', 'a'}\n",
      "Does xy == x? \n",
      "    True\n",
      "Select everything from x, that is not in y\n",
      "x(1 - y) == False\n"
     ]
    }
   ],
   "source": [
    "X = {'a', 'b'}\n",
    "Y = {'c', 'd', 'a', 'b' }\n",
    "\n",
    "set_x = select_members(UNIVERSE, x)\n",
    "set_y = select_members(UNIVERSE, y)\n",
    "\n",
    "xy = set_product(set_x, set_y)\n",
    "\n",
    "print(f'xy = {xy}')\n",
    "print(f'x = {set_x}')\n",
    "print(f'Does xy == x? \\n    {xy == set_x}')\n",
    "\n",
    "print(f'Select everything from x, that is not in y') \n",
    "\n",
    "print(f'x(1 - y) == {bool(set_product(set_x, UNIVERSE - set_y))}')\n",
    "\n"
   ]
  }
 ],
 "metadata": {
  "kernelspec": {
   "display_name": "Python 3",
   "language": "python",
   "name": "python3"
  },
  "language_info": {
   "codemirror_mode": {
    "name": "ipython",
    "version": 3
   },
   "file_extension": ".py",
   "mimetype": "text/x-python",
   "name": "python",
   "nbconvert_exporter": "python",
   "pygments_lexer": "ipython3",
   "version": "3.11.7"
  }
 },
 "nbformat": 4,
 "nbformat_minor": 2
}
