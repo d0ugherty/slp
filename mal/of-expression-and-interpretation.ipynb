{
 "cells": [
  {
   "cell_type": "markdown",
   "metadata": {},
   "source": [
    "# The Mathematical Analysis of Logic\n"
   ]
  },
  {
   "cell_type": "markdown",
   "metadata": {},
   "source": [
    "## Of Expression and Interpretation"
   ]
  },
  {
   "cell_type": "markdown",
   "metadata": {},
   "source": [
    "### Definitions\n",
    "\n",
    "<p>Proposition - a statement which either affirms or denies. ex - \"All men are mortal, No creature is independent.\"\n",
    "\n",
    "Subject - which that is spoken of. *Men* is the subject.\n",
    "\n",
    "Predicate - which that affirms or denies the subject. *Mortal* is the predicate.\n",
    "\n",
    "The subject and the predicate are connected by a *copula* such as \"is\", \"is not\", or other substantive verb.\n",
    "\n",
    "A proposition must either be affirmative or negative and must either be universal or particular.\n",
    "\n",
    "Examples:<br>\n",
    "**Universal-Affirmative**: All Xs are Ys. <br>\n",
    "**Universal-Negative**: No Xs are Ys. <br>\n",
    "**Particular-Affirmative**: Some Xs are Ys <br>\n",
    "**Particular-Negative**: Some Xs are not Ys<br>\n",
    "</p>"
   ]
  },
  {
   "cell_type": "code",
   "execution_count": 1,
   "metadata": {},
   "outputs": [],
   "source": [
    "UNIVERSE = {'a', 'b', 'c', 'd' , 'e', 'f', 'g', 'h', 'q', 'z'}\n",
    "\n",
    "X = {'a', 'b', 'g', 'h' }\n",
    "Y = {'c', 'd', 'q', 'h' }\n",
    "Z = {'e', 'f', 'g', 'z' }\n",
    "\n",
    "def select_members(UNIVERSE, operation=None):\n",
    "    if operation == None:\n",
    "        return UNIVERSE\n",
    "    return operation(UNIVERSE)\n",
    "\n",
    "def operation_x(UNIVERSE):\n",
    "    return {class_member for class_member in UNIVERSE if class_member in X }\n",
    "\n",
    "def operation_y(UNIVERSE):\n",
    "    return {class_member for class_member in UNIVERSE if class_member in Y }\n",
    "\n",
    "def operation_z(UNIVERSE):\n",
    "    return {class_member for class_member in UNIVERSE if class_member in Z } \n",
    "\n",
    "x = operation_x\n",
    "y = operation_y\n",
    "z = operation_z\n",
    "\n",
    "def set_product(*sets):\n",
    "    result = set.intersection(*sets)\n",
    "    return result\n",
    "\n",
    "def set_add(*sets):\n",
    "    result = set.union(*sets)\n",
    "    return result\n"
   ]
  },
  {
   "cell_type": "markdown",
   "metadata": {},
   "source": [
    "### 1. Expression of class Not-X \n",
    "\n"
   ]
  },
  {
   "cell_type": "markdown",
   "metadata": {},
   "source": [
    "Let 1 repersent the Universe and X determined by symbol x.\n",
    "\n",
    "The class not-X will be determined by the symbol: \n",
    "    \n",
    "$$ \n",
    "    \n",
    "1-x \n",
    "    \n",
    "$$\n",
    "    "
   ]
  },
  {
   "cell_type": "code",
   "execution_count": 2,
   "metadata": {},
   "outputs": [
    {
     "name": "stdout",
     "output_type": "stream",
     "text": [
      "not_in(set_x) = {'z', 'e', 'f', 'q', 'd', 'c'}\n",
      "All elements which are not X = (1 - x) = {'z', 'e', 'f', 'q', 'd', 'c'}\n",
      "All elements which are neither Xs nor Ys = (1 - x) (1 - y) = {'z', 'e', 'f'}\n"
     ]
    }
   ],
   "source": [
    "# As a function\n",
    "def not_in(set):\n",
    "    return {class_member for class_member in UNIVERSE if class_member not in set}\n",
    "\n",
    "def set_substract(*sets):\n",
    "    return set.difference(*sets)\n",
    "\n",
    "set_x = select_members(UNIVERSE, x)\n",
    "set_y = select_members(UNIVERSE, y)\n",
    "\n",
    "print(f'not_in(set_x) = {not_in(set_x)}')\n",
    "\n",
    "# Or using Python's  \"-\" operator\n",
    "print(f'All elements which are not X = (1 - x) = {UNIVERSE - set_x}')\n",
    "\n",
    "print(f'All elements which are neither Xs nor Ys = (1 - x) (1 - y) = {set_product(UNIVERSE - set_x, UNIVERSE - set_y)}')"
   ]
  },
  {
   "cell_type": "markdown",
   "metadata": {},
   "source": [
    "### 2. Expression of \"All X's are Y's\n",
    "\n",
    "To express the proposition \"All Xs are Ys,\" we start with the equation:\n",
    "\n",
    "$$\n",
    "\n",
    "xy = x\n",
    "\n",
    "$$\n",
    "This implies that \\(x\\) is a subset of \\(y\\), leading us to infer \"All \\(X\\)s are \\(Y\\)s.\"\n",
    "\n",
    "We can further support this inference with:\n",
    "\n",
    "$$\n",
    "x(1 - y) = 0\n",
    "$$\n",
    "\n",
    "This equation indicates that there are no elements of x\\outside of y, reinforcing that all elements of x must indeed be in set y.\n"
   ]
  },
  {
   "cell_type": "code",
   "execution_count": 3,
   "metadata": {},
   "outputs": [
    {
     "name": "stdout",
     "output_type": "stream",
     "text": [
      "xy = {'a', 'b'}\n",
      "x = {'a', 'b'}\n",
      "Does xy == x? \n",
      "    True\n",
      "Select everything from x, that is not in y\n",
      "x(1 - y) == False\n"
     ]
    }
   ],
   "source": [
    "X = {'a', 'b'}\n",
    "Y = {'c', 'd', 'a', 'b' }\n",
    "\n",
    "set_x = select_members(UNIVERSE, x)\n",
    "set_y = select_members(UNIVERSE, y)\n",
    "\n",
    "xy = set_product(set_x, set_y)\n",
    "\n",
    "print(f'xy = {xy}')\n",
    "print(f'x = {set_x}')\n",
    "print(f'Does xy == x? \\n    {xy == set_x}')\n",
    "\n",
    "print(f'Select everything from x, that is not in y') \n",
    "\n",
    "print(f'x(1 - y) == {bool(set_product(set_x, UNIVERSE - set_y))}')\n",
    "\n"
   ]
  },
  {
   "cell_type": "markdown",
   "metadata": {},
   "source": [
    "### 3. Expression of \"No Xs are Ys\"\n",
    "\n",
    "This can be expressed as elements are common to X and Y.\n",
    "\n",
    "$ xy $ represents all of Ys contained in X. \n",
    "\n",
    "So \"No Xs are Y's\" can be expressed as:\n",
    "\n",
    "$$ \n",
    "xy == 0 \n",
    "$$"
   ]
  },
  {
   "cell_type": "code",
   "execution_count": 6,
   "metadata": {},
   "outputs": [
    {
     "name": "stdout",
     "output_type": "stream",
     "text": [
      "X = {'a', 'b'}\n",
      "Y = {'d', 'c'}\n",
      "Are any Xs in Y?:\n",
      "False\n"
     ]
    }
   ],
   "source": [
    "X = {'a', 'b' }\n",
    "Y = {'c', 'd' }\n",
    "\n",
    "set_x = select_members(UNIVERSE, x)\n",
    "set_y = select_members(UNIVERSE, y)\n",
    "\n",
    "xy = set_product(set_x, set_y)\n",
    "\n",
    "print(f\"X = {X}\")\n",
    "print(f'Y = {Y}')\n",
    "print(f'Are any Xs in Y?: {bool(xy)}')"
   ]
  },
  {
   "cell_type": "markdown",
   "metadata": {},
   "source": [
    "### 4. Expression \"Some Xs are Ys\"\n",
    "\n",
    "If some Xs are Ys, then there are terms common to X and Y.\n",
    "\n",
    "Let $ v $ be terms common to X and Y.\n",
    "\n",
    "$$ v = xy $$\n",
    "\n",
    "Since $ v $ includes all terms common to, we can interpret it as \"Some Xs, or Some Ys\" "
   ]
  },
  {
   "cell_type": "code",
   "execution_count": 15,
   "metadata": {},
   "outputs": [
    {
     "name": "stdout",
     "output_type": "stream",
     "text": [
      "X = {'a', 'd', 'b', 'c'}\n",
      "Y = {'e', 'd', 'f', 'c'}\n",
      "Some Xs are Ys: True\n",
      "v == vy: True\n",
      "v == vx: True\n",
      "v(1 - y) = False\n",
      "set()\n"
     ]
    }
   ],
   "source": [
    "X = {'a', 'b', 'c', 'd' }\n",
    "Y = {'c', 'd', 'e', 'f' }\n",
    "\n",
    "set_x = select_members(UNIVERSE, x)\n",
    "set_y = select_members(UNIVERSE, y)\n",
    "\n",
    "xy = set_product(set_x, set_y)\n",
    "\n",
    "v = xy\n",
    "\n",
    "print(f'X = {X}')\n",
    "print(f'Y = {Y}')\n",
    "print(f'Some Xs are Ys: {bool(v)}')\n",
    "\n",
    "# Multiply v by y to get \"Some Ys\"\n",
    "vy = set_product(v, set_y)\n",
    "# Mutiply v by x to get \"Some Xs\"\n",
    "vx = set_product(v, set_x)\n",
    "print(f'v == vy: {bool(v == vy)}')\n",
    "print(f'v == vx: {bool(v == vx)}')\n",
    "\n",
    "print(f'v(1 - y) = {bool(set_product(v, UNIVERSE - set_y))}')\n",
    "\n"
   ]
  },
  {
   "cell_type": "markdown",
   "metadata": {},
   "source": [
    "### 5. Expression \"Some Xs are Not Ys\"\n",
    "Let $ v $ be terms common those in X and not in Y.\n",
    "$$\n",
    "v = x(1 - y)\n",
    "$$\n",
    "\n",
    "$ v $ can be interpreted as either Some Xs or Not-Ys"
   ]
  },
  {
   "cell_type": "code",
   "execution_count": 11,
   "metadata": {},
   "outputs": [
    {
     "name": "stdout",
     "output_type": "stream",
     "text": [
      "X = {'a', 'd', 'b', 'c'}\n",
      "Y = {'e', 'd', 'f', 'c'}\n",
      "v = {'a', 'b'}\n",
      "Are some Xs not Ys?: True\n"
     ]
    }
   ],
   "source": [
    "v = set_product(set_x, (UNIVERSE - set_y))\n",
    "\n",
    "print(f'X = {X}')\n",
    "print(f'Y = {Y}')\n",
    "print(f'v = {v}')\n",
    "print(f'Are some Xs not Ys?: {bool(v)}')"
   ]
  }
 ],
 "metadata": {
  "kernelspec": {
   "display_name": "Python 3",
   "language": "python",
   "name": "python3"
  },
  "language_info": {
   "codemirror_mode": {
    "name": "ipython",
    "version": 3
   },
   "file_extension": ".py",
   "mimetype": "text/x-python",
   "name": "python",
   "nbconvert_exporter": "python",
   "pygments_lexer": "ipython3",
   "version": "3.12.2"
  }
 },
 "nbformat": 4,
 "nbformat_minor": 2
}
